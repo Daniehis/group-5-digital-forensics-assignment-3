{
 "cells": [
  {
   "cell_type": "markdown",
   "metadata": {},
   "source": [
    "# Assignment 3 - Project Group 5"
   ]
  },
  {
   "cell_type": "markdown",
   "metadata": {},
   "source": [
    "Aleksandra Siderova - s2249987\n",
    "\n",
    "Plamen Bozov - s2319217\n",
    "\n",
    "Lena Huster - s2239531\n",
    "\n",
    "Danielle Ehizibue - s2028484\n",
    "\n",
    "Judith Bravo de Medina Arribas - s2368528\n",
    "\n",
    "Boris Belchev - s2388952\n",
    "\n",
    "\n",
    "\n",
    "*20 October 2021*"
   ]
  },
  {
   "cell_type": "markdown",
   "metadata": {},
   "source": [
    "## 1. Motivation & Goal\n",
    "Booters have been under circulation for quite some time, used to perform DDoS attacks to bring down websites. This service is a non-legal way to use IP stressers, which looks for keeping the identity of the attacker hidden through the use of proxy servers and masking the IP of the person performing the attack. \n",
    "\n",
    "The aim of this research is to analyze the TWBooter database leaked by Brian Kerbs back in 2013, searching and understanding the different parts of such information in order to have a more complete overview of how a booter service may work. Furthermore, by looking at the number of attacks or users of the booters webpage, a better understanding of how big the problem is and an average of people performing attacks or being victims of such performances can be analyzed and taken into account for further booter research. \n",
    "\n",
    "Looking into the Dutch position about the use of booters, the position is towards declaring this services ilegal, since for the police, the use or possession of booter services is illegal and punishable, especially if it is used to disrupt someone's computer without their consent. This motivates the reason behind the study, in order to understand past events that could be useful for the ducth authorities to look into present use of booters, the average number of people using this services and attacks to be performed. Even though the information is from 2013, some of this could be applied for today's position against booters services. Moreover, with this research the reader can gain deeper knowledge into the function and scope of booter websites and booter shells. With finding out more about the way they work, it makes it easier to understand which steps would have to be taken in order to prevent these attacks and to ensure more safety online. \n"
   ]
  },
  {
   "cell_type": "markdown",
   "metadata": {},
   "source": [
    "## 2. Methodology & Results"
   ]
  },
  {
   "cell_type": "markdown",
   "metadata": {},
   "source": [
    "### 2.1. Methodology\n",
    "To make the analysis of the leaked database we used Excel and Pandas as tools to extract information.\n",
    "First of all, to calculate the total number of attack records, we took the count of the id’s but beforehand we removed the duplicates. Afterwards, for the unique users, we used the “victim” column. We applied the same approach: copy the column and remove duplicates. The difference here was that we cut every entry in this column from “http://” and then we removed the duplicates because we found out there are for example entries in the form: “http://92.31.245.3” and “92.31.245.3”. \n",
    "To find the “top 10 IP/domain” we used the unique users' column which we did previously and created a formula that uses this column to count the occurrences of every IP/domain in the original “victim” column and then we ordered them by largest to smallest.\n",
    "\n",
    "Furthermore, to find out about the longest duration of an attack, we ordered the “duration” column from largest to smallest.\n",
    "For the attack type, we applied the same steps as for “top 10 IP/domain” without of course cutting anything from the entries. \n",
    "Moreover, to find the owner id which performed most of the attacks we used the “client_attacker” column applying the same approach as the “top 10 IP/domains”  and for the attack type.\n",
    "To find out how many attacks krebsonsecurity.com suffered we counted on the criteria of victim domain and also IP address which should be 72.52.7.144, we checked how many times they occur in the records. To analyse the ports that were used in the attack, we counted the number of times a port occurs in the column “port_service_time”. At last, we calculated the number of attacked .gov domains by using the “victim” column and checking which domains include “.gov”. Then, we counted the unique values of all the .gov domains to get our result. "
   ]
  },
  {
   "cell_type": "markdown",
   "metadata": {},
   "source": [
    "#### *2.1.1. Libraries that we used to analyse the data*"
   ]
  },
  {
   "cell_type": "code",
   "execution_count": 387,
   "metadata": {},
   "outputs": [],
   "source": [
    "import pandas as pd\n",
    "import matplotlib.pyplot as plt\n",
    "import warnings\n",
    "warnings.filterwarnings('ignore') "
   ]
  },
  {
   "cell_type": "markdown",
   "metadata": {},
   "source": [
    "### 2.2. Results"
   ]
  },
  {
   "cell_type": "markdown",
   "metadata": {},
   "source": [
    "Our investigation of the leaked database of the user base of the TWBooter led us to find the following information, which we divided into three sections based on the type of data we acquired."
   ]
  },
  {
   "cell_type": "markdown",
   "metadata": {},
   "source": [
    "### *2.2.1. Types of attacks*"
   ]
  },
  {
   "cell_type": "markdown",
   "metadata": {},
   "source": [
    "First, we decided to look into the types of attacks performed by the attackers, starting from the total number of attack records, which we found to be **48773**. "
   ]
  },
  {
   "cell_type": "code",
   "execution_count": 390,
   "metadata": {},
   "outputs": [
    {
     "data": {
      "text/html": [
       "<div>\n",
       "<style scoped>\n",
       "    .dataframe tbody tr th:only-of-type {\n",
       "        vertical-align: middle;\n",
       "    }\n",
       "\n",
       "    .dataframe tbody tr th {\n",
       "        vertical-align: top;\n",
       "    }\n",
       "\n",
       "    .dataframe thead th {\n",
       "        text-align: right;\n",
       "    }\n",
       "</style>\n",
       "<table border=\"1\" class=\"dataframe\">\n",
       "  <thead>\n",
       "    <tr style=\"text-align: right;\">\n",
       "      <th></th>\n",
       "      <th>id</th>\n",
       "      <th>processid</th>\n",
       "      <th>victim</th>\n",
       "      <th>port_service`_type</th>\n",
       "      <th>type</th>\n",
       "      <th>duration</th>\n",
       "      <th>time</th>\n",
       "      <th>stopped</th>\n",
       "      <th>client_attacker</th>\n",
       "      <th>server_used_in_th_attack</th>\n",
       "    </tr>\n",
       "  </thead>\n",
       "  <tbody>\n",
       "    <tr>\n",
       "      <td>0</td>\n",
       "      <td>1</td>\n",
       "      <td>5672</td>\n",
       "      <td>91.214.20.52</td>\n",
       "      <td>80</td>\n",
       "      <td>ESSYN</td>\n",
       "      <td>33</td>\n",
       "      <td>1358989954</td>\n",
       "      <td>1</td>\n",
       "      <td>1</td>\n",
       "      <td>94.102.49.76</td>\n",
       "    </tr>\n",
       "    <tr>\n",
       "      <td>1</td>\n",
       "      <td>2</td>\n",
       "      <td>29065</td>\n",
       "      <td>91.214.20.52</td>\n",
       "      <td>80</td>\n",
       "      <td>UDP</td>\n",
       "      <td>1783</td>\n",
       "      <td>1358990329</td>\n",
       "      <td>1</td>\n",
       "      <td>1</td>\n",
       "      <td>93.174.93.30</td>\n",
       "    </tr>\n",
       "    <tr>\n",
       "      <td>2</td>\n",
       "      <td>3</td>\n",
       "      <td>23005</td>\n",
       "      <td>78.31.8.124</td>\n",
       "      <td>80</td>\n",
       "      <td>ESSYN</td>\n",
       "      <td>393</td>\n",
       "      <td>1358991360</td>\n",
       "      <td>0</td>\n",
       "      <td>1</td>\n",
       "      <td>89.248.172.97</td>\n",
       "    </tr>\n",
       "    <tr>\n",
       "      <td>3</td>\n",
       "      <td>4</td>\n",
       "      <td>29411</td>\n",
       "      <td>199.204.44.188</td>\n",
       "      <td>80</td>\n",
       "      <td>ESSYN</td>\n",
       "      <td>60</td>\n",
       "      <td>1358995416</td>\n",
       "      <td>0</td>\n",
       "      <td>4</td>\n",
       "      <td>93.174.93.30</td>\n",
       "    </tr>\n",
       "    <tr>\n",
       "      <td>4</td>\n",
       "      <td>5</td>\n",
       "      <td>19298</td>\n",
       "      <td>http://chrome-mods.com</td>\n",
       "      <td>80</td>\n",
       "      <td>RUDY</td>\n",
       "      <td>50000</td>\n",
       "      <td>1358995471</td>\n",
       "      <td>1</td>\n",
       "      <td>3</td>\n",
       "      <td>72.9.144.80</td>\n",
       "    </tr>\n",
       "  </tbody>\n",
       "</table>\n",
       "</div>"
      ],
      "text/plain": [
       "   id processid                  victim  port_service`_type   type  duration  \\\n",
       "0   1      5672            91.214.20.52                  80  ESSYN        33   \n",
       "1   2     29065            91.214.20.52                  80    UDP      1783   \n",
       "2   3     23005             78.31.8.124                  80  ESSYN       393   \n",
       "3   4     29411          199.204.44.188                  80  ESSYN        60   \n",
       "4   5     19298  http://chrome-mods.com                  80   RUDY     50000   \n",
       "\n",
       "         time  stopped  client_attacker server_used_in_th_attack  \n",
       "0  1358989954        1                1             94.102.49.76  \n",
       "1  1358990329        1                1             93.174.93.30  \n",
       "2  1358991360        0                1            89.248.172.97  \n",
       "3  1358995416        0                4             93.174.93.30  \n",
       "4  1358995471        1                3              72.9.144.80  "
      ]
     },
     "execution_count": 390,
     "metadata": {},
     "output_type": "execute_result"
    }
   ],
   "source": [
    "#Reading the Excel file (table_attack_twbooter.xls)\n",
    "table_attack = pd.read_excel(\"table_attack_twbooter.xlsx\")\n",
    "table_attack.head()"
   ]
  },
  {
   "cell_type": "code",
   "execution_count": 429,
   "metadata": {},
   "outputs": [
    {
     "name": "stdout",
     "output_type": "stream",
     "text": [
      "48773\n"
     ]
    }
   ],
   "source": [
    "#The total number of attack records\n",
    "print((len(table_attack)))"
   ]
  },
  {
   "cell_type": "markdown",
   "metadata": {},
   "source": [
    "The longest attack is listed as lasting **500000**, but since we do not have precise information about the measurement used for the time, we can only assume that the number is in milliseconds, which converted is about **8.20 minutes**, because otherwise if the measurement is in seconds, the longest attack would have lasted approximately **138 hours**, which we estimated to be far too long."
   ]
  },
  {
   "cell_type": "code",
   "execution_count": 394,
   "metadata": {},
   "outputs": [
    {
     "name": "stdout",
     "output_type": "stream",
     "text": [
      "Longest atttack duration: 500000\n",
      "In miliseconds: 0 days 00:08:20\n",
      "In seconds: 5 days 18:53:20\n"
     ]
    }
   ],
   "source": [
    "longest_duration = table_attack['duration'].max()\n",
    "print('Longest atttack duration: ' + str(longest_duration))\n",
    "\n",
    "print('In miliseconds: ' + str(pd.to_timedelta(longest_duration, unit='ms')))\n",
    "print('In seconds: ' + str(pd.to_timedelta(longest_duration, unit='s')))"
   ]
  },
  {
   "cell_type": "markdown",
   "metadata": {},
   "source": [
    "To conclude this section, we examined the three most frequently used attack types. We discovered that those are attacks using **ESSYN, UDP and RUDY** (Figure 1).\n",
    "First, we decided to look into the ESSYN attacks. We found that the most likely type of attack to be performed in this way is an ESSYN flood, which is a variation of the SYN flood attack. The attack is performed by many source IPs that each try to open a connection with the victim’s IP, with the intent of overloading the victim’s firewall table, which would cause actual users’ attempts to connect to the IP to fail when the table is filled.\n",
    "\n",
    "Next, the attack using UDP was mainly performed on port 80, which is the port number for HTTP. The most likely type of attack here is a UDP flood. \n",
    "The aim of such an attack is to use all the bandwidth so that legitimate visitors of the site cannot access it. It does so by sending many requests which the victim server has to handle until it consumes all the bandwidth.\n",
    "\n",
    "Finally, RUDY is a tool used to perform DDoS attacks by making use of a website’s form submission. It does so by submitting very long HTTP POST requests and sending them as very small packets at random intervals, thus using up the victim server’s resources. This type of attack can continue for a long time since it can be mistaken for a legitimate user with a slow connection sending requests.\n",
    "\n",
    "\n"
   ]
  },
  {
   "cell_type": "code",
   "execution_count": 397,
   "metadata": {},
   "outputs": [
    {
     "data": {
      "image/png": "[encoded data removed]",
      "text/plain": [
       "<Figure size 432x288 with 1 Axes>"
      ]
     },
     "metadata": {
      "needs_background": "light"
     },
     "output_type": "display_data"
    }
   ],
   "source": [
    "top3_attack_type = table_attack['type'].value_counts().head(3).sort_values()\n",
    "fig = plt.figure()\n",
    "ax = plt.subplot2grid((1,1), (0,0))\n",
    "top3_attack_type.plot(kind='barh')\n",
    "ax.set_ylabel(\"Top 3 attack types\")\n",
    "ax.set_xlabel(\"Number of attacks\")\n",
    "\n",
    "fig.show()"
   ]
  },
  {
   "cell_type": "markdown",
   "metadata": {},
   "source": [
    "*Figure 1 . Top 3 attack types*"
   ]
  },
  {
   "cell_type": "markdown",
   "metadata": {},
   "source": [
    "### *2.2.2. The Attackers*"
   ]
  },
  {
   "cell_type": "markdown",
   "metadata": {},
   "source": [
    "Next, we looked into the attackers. The number of unique users we discovered is **9518**, while the owner id which is the “client_attacker” column which performed the most attack is **272** with **2307** attacks performed."
   ]
  },
  {
   "cell_type": "code",
   "execution_count": 253,
   "metadata": {},
   "outputs": [],
   "source": [
    "#creating a copy of the df table_attack\n",
    "table_attack_copy = table_attack.copy()\n",
    "#Removing domain \"http://\" in column victim\n",
    "table_attack_copy['victim'] = table_attack_copy['victim'].str.replace('http://', '')"
   ]
  },
  {
   "cell_type": "code",
   "execution_count": 443,
   "metadata": {},
   "outputs": [
    {
     "data": {
      "text/plain": [
       "9518"
      ]
     },
     "execution_count": 443,
     "metadata": {},
     "output_type": "execute_result"
    }
   ],
   "source": [
    "#number of unique users:\n",
    "len(table_attack_copy.drop_duplicates(subset = [\"victim\"]))"
   ]
  },
  {
   "cell_type": "code",
   "execution_count": 401,
   "metadata": {},
   "outputs": [
    {
     "data": {
      "text/plain": [
       "272    2307\n",
       "197    2028\n",
       "111    1965\n",
       "Name: client_attacker, dtype: int64"
      ]
     },
     "execution_count": 401,
     "metadata": {},
     "output_type": "execute_result"
    }
   ],
   "source": [
    "#Owner Id that performed most of the attacks\n",
    "table_attack['client_attacker'].value_counts().head(3)"
   ]
  },
  {
   "cell_type": "markdown",
   "metadata": {},
   "source": [
    "Then we looked for the server most frequently used in attacks and we found that to be **89.248.172.106**, used **4976** times. It is also based in Amsterdam and uses IP Volume as an ISP."
   ]
  },
  {
   "cell_type": "code",
   "execution_count": 404,
   "metadata": {},
   "outputs": [
    {
     "data": {
      "text/plain": [
       "89248172106    4976\n",
       "Name: server_used_in_th_attack, dtype: int64"
      ]
     },
     "execution_count": 404,
     "metadata": {},
     "output_type": "execute_result"
    }
   ],
   "source": [
    "#Most frequently used server\n",
    "table_attack['server_used_in_th_attack'].value_counts().head(1)"
   ]
  },
  {
   "cell_type": "markdown",
   "metadata": {},
   "source": [
    "### *2.2.2. The Victims*"
   ]
  },
  {
   "cell_type": "markdown",
   "metadata": {},
   "source": [
    "For the victims, we investigated the top 10 IP addresses and the top 10 domains. For the IP addresses, we found the following:"
   ]
  },
  {
   "cell_type": "markdown",
   "metadata": {},
   "source": [
    "- 87.106.136.156 - Germany\n",
    "- 212.7.214.197 - Poland\n",
    "- 72.9.144.6 - USA\n",
    "- 70.39.68.226 - USA\n",
    "- 176.31.90.154 - France\n",
    "- 186.202.153.45 - Brazil\n",
    "- 69.162.77.11 - USA\n",
    "- 198.1.122.66 - USA\n",
    "- 100.42.216.59 - USA\n",
    "- 189.38.59.130 - Brazil\n",
    "\n",
    "The most attacked IP address is located in Germany, but the USA appears the most often in the top ten list.\n",
    "Moreover, the following domains were attacked the most:\n",
    "\n",
    "- http://www.relog.co.il - Israel\n",
    "- http://rewards.yourpshome.net - unknown, possibly the UK based on similar URLs that still exist\n",
    "- http://pshomecentral.net - USA\n",
    "- http://ajnabi.vchats.info/ - unknown\n",
    "- http://ajnabi.pkfun.net/ - unknown\n",
    "- http://www.nordicmakten.com - France\n",
    "- http://www.nordicmafia.net - USA\n",
    "- http://www.yourpshome.net - UK\n",
    "- http://www.violvocal.com - unknown\n",
    "- http://lapdonline.org - USA\n",
    "\n",
    "The most attacked domain this time is in Israel, but the USA still appears the most often in the top 10 list."
   ]
  },
  {
   "cell_type": "code",
   "execution_count": 438,
   "metadata": {},
   "outputs": [
    {
     "name": "stdout",
     "output_type": "stream",
     "text": [
      "87.106.136.156             1106\n",
      "212.7.214.197               799\n",
      "www.relog.co.il             635\n",
      "rewards.yourpshome.net      445\n",
      "pshomecentral.net           383\n",
      "ajnabi.vchats.info/         367\n",
      "72.9.144.6                  304\n",
      "70.39.68.226                285\n",
      "176.31.90.154               280\n",
      "186.202.153.45              244\n",
      "69.162.77.11                225\n",
      "198.1.122.66                208\n",
      "rewards.yourpshome.net/     190\n",
      "100.42.216.59               189\n",
      "ajnabi.pkfun.net/           184\n",
      "www.nordicmakten.com        178\n",
      "189.38.59.130               176\n",
      "85.114.128.90               176\n",
      "187.45.182.231              127\n",
      "209.205.72.160              123\n",
      "50.116.92.237               121\n",
      "77.111.199.43               119\n",
      "2.51.2.20                   118\n",
      "74.91.116.80                108\n",
      "www.nordicmafia.net         107\n",
      "192.211.59.50               104\n",
      "82.80.17.115                101\n",
      "www.yourpshome.net          100\n",
      "violvocal.com               100\n",
      "50.116.92.236                98\n",
      "100.42.216.60                95\n",
      "109.163.227.9                91\n",
      "64.32.27.47                  90\n",
      "69.162.99.242                89\n",
      "87.98.171.141                89\n",
      "188.165.94.154               88\n",
      "198.148.93.82                88\n",
      "69.42.220.135                88\n",
      "46.105.191.86                87\n",
      "67.220.67.10                 87\n",
      "lapdonline.org               86\n",
      "Name: victim, dtype: int64\n"
     ]
    }
   ],
   "source": [
    "#The top 10 IP addresses & domain names\n",
    "top10_victim_IP_and_domain = table_attack_copy['victim'].value_counts().head(41)\n",
    "print(top10_victim_IP_and_domain)"
   ]
  },
  {
   "cell_type": "markdown",
   "metadata": {},
   "source": [
    "Finally, we decided to check how many times krebsonsecurity.com, a website providing news about security, was attacked - **ten times**.\n"
   ]
  },
  {
   "cell_type": "code",
   "execution_count": 412,
   "metadata": {},
   "outputs": [
    {
     "data": {
      "text/plain": [
       "10"
      ]
     },
     "execution_count": 412,
     "metadata": {},
     "output_type": "execute_result"
    }
   ],
   "source": [
    "attacks_on_krebsonsecurity = table_attack[table_attack['victim'].isin(['http://krebsonsecurity.com', '72.52.7.144', 'http://72.52.7.144'])]\n",
    "attacks_on_krebsonsecurity\n",
    "\n",
    "#Total number of attacks Krebsonsecurity.com suffered from:\n",
    "len(attacks_on_krebsonsecurity)"
   ]
  },
  {
   "cell_type": "markdown",
   "metadata": {},
   "source": [
    "### *Other statistics*\n",
    "We also chose to measure what the most used ports are for the attacks because it is important to know which ones are the “Favourite” of the attackers and which they find most vulnerable. In this attack **port 80** was the most attacked one and then **6005** and **6000** (Figure 2). \n"
   ]
  },
  {
   "cell_type": "code",
   "execution_count": 410,
   "metadata": {},
   "outputs": [
    {
     "data": {
      "image/png": "[encoded data removed]",
      "text/plain": [
       "<Figure size 432x288 with 1 Axes>"
      ]
     },
     "metadata": {},
     "output_type": "display_data"
    }
   ],
   "source": [
    "#Top 3 port service types\n",
    "top3_port_type = table_attack['port_service`_type'].value_counts().head(3)\n",
    "top3_port_type\n",
    "ax = plt.subplot2grid((1,1), (0,0))\n",
    "plot = top3_port_type.plot(kind='pie', y=ax, title=\"Port Service Type\",autopct='%1.1f%%', startangle=0)\n",
    "ax.set_ylabel(\"\")\n",
    "fig.show()"
   ]
  },
  {
   "cell_type": "markdown",
   "metadata": {},
   "source": [
    "*Figure 2 . Port service types that were mostly used in the attack.*"
   ]
  },
  {
   "cell_type": "markdown",
   "metadata": {},
   "source": [
    "In addition, the total number of unique .gov domains that were attacked was **167**. As apparent, most of the attacks were focused on **Indian .gov** domains. "
   ]
  },
  {
   "cell_type": "code",
   "execution_count": 427,
   "metadata": {},
   "outputs": [
    {
     "data": {
      "text/plain": [
       "167"
      ]
     },
     "execution_count": 427,
     "metadata": {},
     "output_type": "execute_result"
    }
   ],
   "source": [
    "attacked_gov_domains = table_attack[table_attack['victim'].str.contains('\\\\.gov', na= False)]\n",
    "gov_domains_attacked = attacked_gov_domains['victim'].value_counts().sort_values()\n",
    "#The total number of .gov domains that were attacked:\n",
    "gov_domains_attacked.sum()"
   ]
  },
  {
   "cell_type": "code",
   "execution_count": 428,
   "metadata": {},
   "outputs": [
    {
     "data": {
      "image/png": "[encoded data removed]",
      "text/plain": [
       "<Figure size 432x288 with 1 Axes>"
      ]
     },
     "metadata": {
      "needs_background": "light"
     },
     "output_type": "display_data"
    }
   ],
   "source": [
    "fig = plt.figure()\n",
    "ax = plt.subplot2grid((1,1), (0,0))\n",
    "gov_domains_attacked.plot(kind='barh')\n",
    "ax.set_ylabel(\".Gov Domain Name\")\n",
    "ax.set_xlabel(\"Number of attacks received\")\n",
    "\n",
    "fig.show()"
   ]
  },
  {
   "cell_type": "markdown",
   "metadata": {},
   "source": [
    "*Figure 3 . Gov Domains that were attacked most.*"
   ]
  },
  {
   "cell_type": "markdown",
   "metadata": {},
   "source": [
    "## 3. Conclusion\n",
    "Nowadays Booters are still part of the internet and can be said to be an actively growing business. Just by typing Booter in Google, a person can already find at least 10 links on the first page with “companies” providing this service. The attack we investigated above is a clear example of what power such an attack can have. From what we have seen there are three types of attacks that try to overwhelm the victims. The attack was not intended for only one domain. \n",
    "Also, the investigation showed many attackers, but there was one that performed most of the attacks, so it can be considered that the owner of that IP might be the main attacker and also there is the chance of that owner to also be involved in the other attacks that have happened.\n",
    "\n",
    "A lot of times those attacks can come from the people inside the organisations that want to harm them, this means sometimes to find the actual attackers or the people that caused it, it is worthwhile to look at IP addresses close to that organisation. Also sometimes it might look like an attack from far away. On the other hand, if a mistake is seen like a person has travelled 5000 kilometres in 10 minutes, then it is really easy to see who is the actual suspect of the attack. \n",
    "\n",
    "The first idea of a booter was actually to create a tool that can test a system’s bandwidth and resources of how much pressure it can handle. However, over time it has been made as a way to perform attacks so it has become a powerful tool. \n",
    "The people that use booters, are mostly people with a lack of technical knowledge or don’t have the systems needed to perform such an attack. In that case, it is easy for them to just hire somebody to perform such an attack. As the technical knowledge of people is involved every day, this means that nowadays every person with some bad intentions can directly perform a strong attack for only a couple of dollars. Because of that Booters need to be seriously considered by the authorities and need to be taken serious measures against them, so the intensity of such attacks can decline significantly. "
   ]
  },
  {
   "cell_type": "markdown",
   "metadata": {},
   "source": [
    "## 4. References\n",
    "What is a DDoS booter/IP stresser | DDoS attacks tools. (n.d.). Cloudflare. Retrieved October 16, 2021, from https://www.cloudflare.com/en-gb/learning/ddos/ddos-attack-tools/ddos-booter-ip-stresser/\n",
    "\n",
    "DDoS = cybercrime = no kidding. (n.d.). Politie. Retrieved October 16, 2021, from https://www.politie.nl/algemeen/ddos.html?gclid=CjwKCAjw8KmLBhB8EiwAQbqNoI0X0Vtxsd1TpPk3motyiRIbu6HMtH5IsvuhUCztI40YXEwRRxE1LBoCeJQQAvD_BwE&sid=698c8dde-4c45-48c4-a0f4-1e8917584402\n",
    "\n",
    "Guide to DDoS Attacks, November 2017. MS-ISAC. Retrieved October 19, 2021 from\n",
    "https://www.cisecurity.org/wp-content/uploads/2017/03/Guide-to-DDoS-Attacks-November-2017.pdf\n",
    "\n",
    "R U Dead Yet? (R.U.D.Y.) attack. Cloudflare. Retrieved October 19, 2021, from\n",
    "https://www.cloudflare.com/learning/ddos/ddos-attack-tools/r-u-dead-yet-rudy/\n"
   ]
  },
  {
   "cell_type": "code",
   "execution_count": null,
   "metadata": {},
   "outputs": [],
   "source": []
  }
 ],
 "metadata": {
  "kernelspec": {
   "display_name": "Python 3",
   "language": "python",
   "name": "python3"
  },
  "language_info": {
   "codemirror_mode": {
    "name": "ipython",
    "version": 3
   },
   "file_extension": ".py",
   "mimetype": "text/x-python",
   "name": "python",
   "nbconvert_exporter": "python",
   "pygments_lexer": "ipython3",
   "version": "3.7.4"
  }
 },
 "nbformat": 4,
 "nbformat_minor": 2
}
